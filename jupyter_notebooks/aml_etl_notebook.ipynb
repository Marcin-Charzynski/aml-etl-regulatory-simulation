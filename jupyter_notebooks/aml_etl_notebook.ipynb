{
 "cells": [
  {
   "cell_type": "code",
   "execution_count": 20,
   "id": "e719b46d",
   "metadata": {},
   "outputs": [],
   "source": [
    "import pandas as pd\n",
    "from sqlalchemy import create_engine"
   ]
  },
  {
   "cell_type": "code",
   "execution_count": 21,
   "id": "0c48bbb9",
   "metadata": {},
   "outputs": [],
   "source": [
    "# Load raw CSVs\n",
    "customers = pd.read_csv(\"../data/customers.csv\")\n",
    "accounts = pd.read_csv(\"../data/accounts.csv\")\n",
    "transactions = pd.read_csv(\"../data/transactions.csv\")"
   ]
  },
  {
   "cell_type": "code",
   "execution_count": 22,
   "id": "8689da57",
   "metadata": {},
   "outputs": [],
   "source": [
    "# Cleaning\n",
    "transactions['date'] = pd.to_datetime(transactions['date'])\n",
    "transactions['amount'] = transactions['amount'].astype(float)"
   ]
  },
  {
   "cell_type": "code",
   "execution_count": 23,
   "id": "1e882218",
   "metadata": {},
   "outputs": [],
   "source": [
    "# Join customers → accounts → transactions\n",
    "merged_df = transactions.merge(accounts, on=\"account_id\") \\\n",
    "                        .merge(customers, on=\"customer_id\")"
   ]
  },
  {
   "cell_type": "code",
   "execution_count": 24,
   "id": "abf292fd",
   "metadata": {},
   "outputs": [],
   "source": [
    "# Add basic risk features\n",
    "merged_df[\"high_value\"] = merged_df[\"amount\"] > 10000\n",
    "merged_df[\"offshore\"] = ~merged_df[\"country\"].isin([\"PL\", \"US\", \"ES\", \"AE\", \"CN\"])\n",
    "merged_df[\"suspicious_channel\"] = merged_df[\"channel\"].isin([\"cash\", \"atm\"])"
   ]
  },
  {
   "cell_type": "code",
   "execution_count": 25,
   "id": "16c81c48",
   "metadata": {},
   "outputs": [
    {
     "name": "stdout",
     "output_type": "stream",
     "text": [
      "ETL pipeline completed and saved to 'aml_database.db'\n"
     ]
    }
   ],
   "source": [
    "# Save to SQLite\n",
    "engine = create_engine(\"sqlite:///aml_database.db\")\n",
    "merged_df.to_sql(\"transaction_log\", con=engine, if_exists=\"replace\", index=False)\n",
    "\n",
    "print(\"ETL pipeline completed and saved to 'aml_database.db'\")"
   ]
  }
 ],
 "metadata": {
  "kernelspec": {
   "display_name": "myenv",
   "language": "python",
   "name": "python3"
  },
  "language_info": {
   "codemirror_mode": {
    "name": "ipython",
    "version": 3
   },
   "file_extension": ".py",
   "mimetype": "text/x-python",
   "name": "python",
   "nbconvert_exporter": "python",
   "pygments_lexer": "ipython3",
   "version": "3.11.9"
  }
 },
 "nbformat": 4,
 "nbformat_minor": 5
}
