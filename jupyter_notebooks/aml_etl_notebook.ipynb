{
 "cells": [
  {
   "cell_type": "code",
   "execution_count": 1,
   "id": "e719b46d",
   "metadata": {},
   "outputs": [
    {
     "ename": "ModuleNotFoundError",
     "evalue": "No module named 'sqlalchemy'",
     "output_type": "error",
     "traceback": [
      "\u001b[31m---------------------------------------------------------------------------\u001b[39m",
      "\u001b[31mModuleNotFoundError\u001b[39m                       Traceback (most recent call last)",
      "\u001b[36mCell\u001b[39m\u001b[36m \u001b[39m\u001b[32mIn[1]\u001b[39m\u001b[32m, line 2\u001b[39m\n\u001b[32m      1\u001b[39m \u001b[38;5;28;01mimport\u001b[39;00m\u001b[38;5;250m \u001b[39m\u001b[34;01mpandas\u001b[39;00m\u001b[38;5;250m \u001b[39m\u001b[38;5;28;01mas\u001b[39;00m\u001b[38;5;250m \u001b[39m\u001b[34;01mpd\u001b[39;00m\n\u001b[32m----> \u001b[39m\u001b[32m2\u001b[39m \u001b[38;5;28;01mfrom\u001b[39;00m\u001b[38;5;250m \u001b[39m\u001b[34;01msqlalchemy\u001b[39;00m\u001b[38;5;250m \u001b[39m\u001b[38;5;28;01mimport\u001b[39;00m create_engine\n",
      "\u001b[31mModuleNotFoundError\u001b[39m: No module named 'sqlalchemy'"
     ]
    }
   ],
   "source": [
    "import pandas as pd\n",
    "from sqlalchemy import create_engine"
   ]
  },
  {
   "cell_type": "code",
   "execution_count": null,
   "id": "0c48bbb9",
   "metadata": {},
   "outputs": [],
   "source": [
    "# Load raw CSVs\n",
    "customers = pd.read_csv(\"data/customers.csv\")\n",
    "accounts = pd.read_csv(\"data/accounts.csv\")\n",
    "transactions = pd.read_csv(\"data/transactions.csv\")"
   ]
  },
  {
   "cell_type": "code",
   "execution_count": null,
   "id": "8689da57",
   "metadata": {},
   "outputs": [],
   "source": [
    "# Cleaning\n",
    "transactions['date'] = pd.to_datetime(transactions['date'])\n",
    "transactions['amount'] = transactions['amount'].astype(float)"
   ]
  },
  {
   "cell_type": "code",
   "execution_count": null,
   "id": "1e882218",
   "metadata": {},
   "outputs": [],
   "source": [
    "# Join customers → accounts → transactions\n",
    "merged_df = transactions.merge(accounts, on=\"account_id\") \\\n",
    "                        .merge(customers, on=\"customer_id\")"
   ]
  },
  {
   "cell_type": "code",
   "execution_count": null,
   "id": "abf292fd",
   "metadata": {},
   "outputs": [],
   "source": [
    "# Add basic risk features\n",
    "merged_df[\"high_value\"] = merged_df[\"amount\"] > 10000\n",
    "merged_df[\"offshore\"] = ~merged_df[\"country\"].isin([\"PL\", \"US\", \"ES\", \"AE\", \"CN\"])\n",
    "merged_df[\"suspicious_channel\"] = merged_df[\"channel\"].isin([\"cash\", \"atm\"])"
   ]
  },
  {
   "cell_type": "code",
   "execution_count": null,
   "id": "16c81c48",
   "metadata": {},
   "outputs": [],
   "source": [
    "# Save to SQLite\n",
    "engine = create_engine(\"sqlite:///aml_database.db\")\n",
    "merged_df.to_sql(\"transaction_log\", con=engine, if_exists=\"replace\", index=False)\n",
    "\n",
    "print(\"ETL pipeline completed and saved to 'aml_database.db'\")"
   ]
  }
 ],
 "metadata": {
  "kernelspec": {
   "display_name": "Python 3",
   "language": "python",
   "name": "python3"
  },
  "language_info": {
   "codemirror_mode": {
    "name": "ipython",
    "version": 3
   },
   "file_extension": ".py",
   "mimetype": "text/x-python",
   "name": "python",
   "nbconvert_exporter": "python",
   "pygments_lexer": "ipython3",
   "version": "3.11.9"
  }
 },
 "nbformat": 4,
 "nbformat_minor": 5
}
