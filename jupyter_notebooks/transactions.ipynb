{
 "cells": [
  {
   "cell_type": "code",
   "execution_count": 4,
   "id": "864dc3ec",
   "metadata": {},
   "outputs": [],
   "source": [
    "import sqlite3\n",
    "import pandas as pd"
   ]
  },
  {
   "cell_type": "code",
   "execution_count": 5,
   "id": "1c1764b7",
   "metadata": {},
   "outputs": [],
   "source": [
    "conn = sqlite3.connect(\"../data/aml_simulation.db\")"
   ]
  },
  {
   "cell_type": "code",
   "execution_count": 6,
   "id": "0a20f01c",
   "metadata": {},
   "outputs": [],
   "source": [
    "query = \"\"\"\n",
    "    SELECT * FROM transactions;\n",
    "\"\"\""
   ]
  },
  {
   "cell_type": "code",
   "execution_count": 7,
   "id": "e5878d94",
   "metadata": {},
   "outputs": [],
   "source": [
    "transactions = pd.read_sql_query(query, conn)\n",
    "conn.close()"
   ]
  },
  {
   "cell_type": "code",
   "execution_count": 25,
   "id": "d257b0b0",
   "metadata": {},
   "outputs": [
    {
     "data": {
      "text/plain": [
       "txn_id                     int64\n",
       "account_id                 int64\n",
       "timestamp         datetime64[ns]\n",
       "amount                   float64\n",
       "currency                  object\n",
       "origin_country            object\n",
       "dest_country              object\n",
       "channel                   object\n",
       "counterparty              object\n",
       "dtype: object"
      ]
     },
     "execution_count": 25,
     "metadata": {},
     "output_type": "execute_result"
    }
   ],
   "source": [
    "transactions.dtypes"
   ]
  },
  {
   "cell_type": "code",
   "execution_count": 13,
   "id": "05d24d41",
   "metadata": {},
   "outputs": [],
   "source": [
    "transactions['timestamp'] = pd.to_datetime(transactions['timestamp'])"
   ]
  },
  {
   "cell_type": "code",
   "execution_count": 17,
   "id": "1e7449c8",
   "metadata": {},
   "outputs": [
    {
     "data": {
      "text/plain": [
       "timestamp\n",
       "2024    975194\n",
       "2023    651677\n",
       "2025    625932\n",
       "Name: count, dtype: int64"
      ]
     },
     "execution_count": 17,
     "metadata": {},
     "output_type": "execute_result"
    }
   ],
   "source": [
    "transactions['timestamp'].dt.year.value_counts()"
   ]
  },
  {
   "cell_type": "code",
   "execution_count": 22,
   "id": "7272fba0",
   "metadata": {},
   "outputs": [
    {
     "data": {
      "text/plain": [
       "timestamp\n",
       "12    65834\n",
       "11    63959\n",
       "10    61945\n",
       "9     59248\n",
       "8     57379\n",
       "7     54733\n",
       "6     53155\n",
       "5     51038\n",
       "4     49030\n",
       "3     47112\n",
       "2     44992\n",
       "1     43252\n",
       "Name: count, dtype: int64"
      ]
     },
     "execution_count": 22,
     "metadata": {},
     "output_type": "execute_result"
    }
   ],
   "source": [
    "transactions[transactions['timestamp'].dt.year == 2023]['timestamp'].dt.month.value_counts()"
   ]
  },
  {
   "cell_type": "code",
   "execution_count": 23,
   "id": "d5d22ada",
   "metadata": {},
   "outputs": [
    {
     "data": {
      "text/plain": [
       "timestamp\n",
       "12    94603\n",
       "11    92205\n",
       "10    89714\n",
       "9     87501\n",
       "8     84769\n",
       "7     82346\n",
       "6     79535\n",
       "5     77990\n",
       "4     74862\n",
       "3     72894\n",
       "2     70801\n",
       "1     67974\n",
       "Name: count, dtype: int64"
      ]
     },
     "execution_count": 23,
     "metadata": {},
     "output_type": "execute_result"
    }
   ],
   "source": [
    "transactions[transactions['timestamp'].dt.year == 2024]['timestamp'].dt.month.value_counts()"
   ]
  },
  {
   "cell_type": "code",
   "execution_count": 24,
   "id": "5f058198",
   "metadata": {},
   "outputs": [
    {
     "data": {
      "text/plain": [
       "timestamp\n",
       "6    111598\n",
       "5    108141\n",
       "4    105397\n",
       "3    103120\n",
       "2    100593\n",
       "1     97083\n",
       "Name: count, dtype: int64"
      ]
     },
     "execution_count": 24,
     "metadata": {},
     "output_type": "execute_result"
    }
   ],
   "source": [
    "transactions[transactions['timestamp'].dt.year == 2025]['timestamp'].dt.month.value_counts()"
   ]
  },
  {
   "cell_type": "code",
   "execution_count": 26,
   "id": "2fcd2be6",
   "metadata": {},
   "outputs": [
    {
     "data": {
      "text/plain": [
       "origin_country\n",
       "US    241861\n",
       "NG    241722\n",
       "GB    241636\n",
       "FR    241280\n",
       "PL    241237\n",
       "BR    241058\n",
       "DE    240553\n",
       "CN    225684\n",
       "RU    225165\n",
       "IR    112607\n",
       "Name: count, dtype: int64"
      ]
     },
     "execution_count": 26,
     "metadata": {},
     "output_type": "execute_result"
    }
   ],
   "source": [
    "transactions['origin_country'].value_counts()"
   ]
  },
  {
   "cell_type": "code",
   "execution_count": 27,
   "id": "5bab61a0",
   "metadata": {},
   "outputs": [
    {
     "data": {
      "text/plain": [
       "dest_country\n",
       "GB    242507\n",
       "US    241830\n",
       "DE    241470\n",
       "FR    241094\n",
       "NG    241055\n",
       "PL    241004\n",
       "BR    240704\n",
       "RU    225374\n",
       "CN    225341\n",
       "IR    112424\n",
       "Name: count, dtype: int64"
      ]
     },
     "execution_count": 27,
     "metadata": {},
     "output_type": "execute_result"
    }
   ],
   "source": [
    "transactions['dest_country'].value_counts()"
   ]
  }
 ],
 "metadata": {
  "kernelspec": {
   "display_name": "myenv",
   "language": "python",
   "name": "python3"
  },
  "language_info": {
   "codemirror_mode": {
    "name": "ipython",
    "version": 3
   },
   "file_extension": ".py",
   "mimetype": "text/x-python",
   "name": "python",
   "nbconvert_exporter": "python",
   "pygments_lexer": "ipython3",
   "version": "3.11.9"
  }
 },
 "nbformat": 4,
 "nbformat_minor": 5
}
