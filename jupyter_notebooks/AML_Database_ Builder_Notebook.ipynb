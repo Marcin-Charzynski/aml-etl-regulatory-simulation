{
 "cells": [
  {
   "cell_type": "code",
   "execution_count": 1,
   "id": "a07ea12f",
   "metadata": {},
   "outputs": [],
   "source": [
    "# 📦 Dependencies\n",
    "import sqlite3\n",
    "import random\n",
    "from faker import Faker\n",
    "from datetime import datetime, timedelta\n",
    "from tqdm import tqdm"
   ]
  },
  {
   "cell_type": "code",
   "execution_count": 2,
   "id": "8c3f1420",
   "metadata": {},
   "outputs": [],
   "source": [
    "# 🎲 Faker setup\n",
    "fake = Faker()\n",
    "random.seed(42)\n",
    "Faker.seed(42)"
   ]
  },
  {
   "cell_type": "code",
   "execution_count": 3,
   "id": "7ec7b1d9",
   "metadata": {},
   "outputs": [],
   "source": [
    "# 📂 Create SQLite DB\n",
    "db_path = \"../data/aml_simulation.db\"\n",
    "conn = sqlite3.connect(db_path)\n",
    "cursor = conn.cursor()"
   ]
  },
  {
   "cell_type": "code",
   "execution_count": 4,
   "id": "432e23f2",
   "metadata": {},
   "outputs": [],
   "source": [
    "# 🧹 Drop existing tables\n",
    "tables = [\"customers\", \"accounts\", \"transactions\", \"watchlist_entities\", \"flagged_txns\"]\n",
    "for t in tables:\n",
    "    cursor.execute(f\"DROP TABLE IF EXISTS {t}\")"
   ]
  },
  {
   "cell_type": "code",
   "execution_count": 5,
   "id": "8ebd1d1d",
   "metadata": {},
   "outputs": [],
   "source": [
    "# 📐 Schema creation\n",
    "cursor.executescript(\"\"\"\n",
    "CREATE TABLE customers (\n",
    "    customer_id INTEGER PRIMARY KEY,\n",
    "    name TEXT,\n",
    "    dob TEXT,\n",
    "    country TEXT,\n",
    "    risk_category TEXT\n",
    ");\n",
    "\n",
    "CREATE TABLE accounts (\n",
    "    account_id INTEGER PRIMARY KEY,\n",
    "    customer_id INTEGER,\n",
    "    account_type TEXT,\n",
    "    open_date TEXT\n",
    ");\n",
    "\n",
    "CREATE TABLE transactions (\n",
    "    txn_id INTEGER PRIMARY KEY,\n",
    "    account_id INTEGER,\n",
    "    timestamp TEXT,\n",
    "    amount REAL,\n",
    "    currency TEXT,\n",
    "    origin_country TEXT,\n",
    "    dest_country TEXT,\n",
    "    channel TEXT,\n",
    "    counterparty TEXT\n",
    ");\n",
    "\n",
    "CREATE TABLE watchlist_entities (\n",
    "    entity_id INTEGER PRIMARY KEY,\n",
    "    name TEXT,\n",
    "    country TEXT\n",
    ");\n",
    "\n",
    "CREATE TABLE flagged_txns (\n",
    "    flagged_id INTEGER PRIMARY KEY,\n",
    "    txn_id INTEGER,\n",
    "    rule_triggered TEXT,\n",
    "    reason TEXT\n",
    ");\n",
    "\"\"\")\n",
    "conn.commit()"
   ]
  },
  {
   "cell_type": "code",
   "execution_count": 6,
   "id": "345e0c5b",
   "metadata": {},
   "outputs": [],
   "source": [
    "# 👤 Generate 10,000 customers\n",
    "countries = ['US', 'DE', 'GB', 'RU', 'CN', 'IR', 'PL', 'FR', 'BR', 'NG']\n",
    "risk_weights = ['Low', 'Medium', 'High']\n",
    "customer_rows = []\n",
    "\n",
    "for i in range(1, 10001):\n",
    "    customer_rows.append((\n",
    "        i,\n",
    "        fake.name(),\n",
    "        fake.date_of_birth(minimum_age=18, maximum_age=85).isoformat(),\n",
    "        random.choice(countries),\n",
    "        random.choices(risk_weights, weights=[0.7, 0.25, 0.05])[0]\n",
    "    ))\n",
    "\n",
    "cursor.executemany(\"INSERT INTO customers VALUES (?, ?, ?, ?, ?)\", customer_rows)\n",
    "conn.commit()"
   ]
  },
  {
   "cell_type": "code",
   "execution_count": 7,
   "id": "2a89179f",
   "metadata": {},
   "outputs": [
    {
     "name": "stderr",
     "output_type": "stream",
     "text": [
      "100%|██████████| 10000/10000 [00:00<00:00, 13330.91it/s]\n"
     ]
    }
   ],
   "source": [
    "# Generate accounts\n",
    "account_id = 1\n",
    "account_types = ['Checking', 'Savings', 'Investment']\n",
    "account_rows = []\n",
    "\n",
    "for cust_id in tqdm(range(1, 10001)):\n",
    "    for _ in range(random.randint(1, 3)):\n",
    "        account_rows.append((\n",
    "            account_id,\n",
    "            cust_id,\n",
    "            random.choice(account_types),\n",
    "            fake.date_between(start_date='-10y', end_date='-1d').isoformat()\n",
    "        ))\n",
    "        account_id += 1\n",
    "\n",
    "cursor.executemany(\"INSERT INTO accounts VALUES (?, ?, ?, ?)\", account_rows)\n",
    "conn.commit()"
   ]
  },
  {
   "cell_type": "code",
   "execution_count": 8,
   "id": "4b5c6ae5",
   "metadata": {},
   "outputs": [
    {
     "name": "stderr",
     "output_type": "stream",
     "text": [
      "100%|██████████| 20054/20054 [08:19<00:00, 40.17it/s]\n"
     ]
    }
   ],
   "source": [
    "# Generate transactions (50-200 per account)\n",
    "txn_id = 1\n",
    "channels = ['Online', 'ATM', 'Branch', 'Mobile']\n",
    "currencies = ['USD', 'EUR', 'GBP', 'PLN']\n",
    "txn_batch = []\n",
    "\n",
    "for acc in tqdm(account_rows):\n",
    "    acc_id, _, _, open_date = acc\n",
    "    num_txns = random.randint(50, 200)\n",
    "    open_dt = datetime.fromisoformat(open_date)\n",
    "    \n",
    "    for _ in range(num_txns):\n",
    "        txn_dt = open_dt + timedelta(days=random.randint(1, 3650), seconds=random.randint(0, 86400))\n",
    "        txn_batch.append((\n",
    "            txn_id,\n",
    "            acc_id,\n",
    "            txn_dt.isoformat(),\n",
    "            round(random.uniform(10, 10000), 2),\n",
    "            random.choice(currencies),\n",
    "            random.choice(countries),\n",
    "            random.choice(countries),\n",
    "            random.choice(channels),\n",
    "            fake.company()\n",
    "        ))\n",
    "        txn_id += 1\n",
    "\n",
    "        if len(txn_batch) > 100000:\n",
    "            cursor.executemany(\"INSERT INTO transactions VALUES (?, ?, ?, ?, ?, ?, ?, ?, ?)\", txn_batch)\n",
    "            txn_batch = []\n",
    "\n",
    "# Final flush\n",
    "if txn_batch:\n",
    "    cursor.executemany(\"INSERT INTO transactions VALUES (?, ?, ?, ?, ?, ?, ?, ?, ?)\", txn_batch)\n",
    "conn.commit()"
   ]
  },
  {
   "cell_type": "code",
   "execution_count": 9,
   "id": "d5fa12ff",
   "metadata": {},
   "outputs": [],
   "source": [
    "# Generate watchlist entities\n",
    "watchlist = [(i, fake.company(), random.choice(countries)) for i in range(1, 21)]\n",
    "cursor.executemany(\"INSERT INTO watchlist_entities VALUES (?, ?, ?)\", watchlist)\n",
    "conn.commit()"
   ]
  },
  {
   "cell_type": "code",
   "execution_count": 10,
   "id": "25e75e87",
   "metadata": {},
   "outputs": [
    {
     "name": "stdout",
     "output_type": "stream",
     "text": [
      "✅ Database created: ../data/aml_simulation.db\n"
     ]
    }
   ],
   "source": [
    "conn.close()\n",
    "print(f\"✅ Database created: {db_path}\")"
   ]
  }
 ],
 "metadata": {
  "kernelspec": {
   "display_name": "myenv",
   "language": "python",
   "name": "python3"
  },
  "language_info": {
   "codemirror_mode": {
    "name": "ipython",
    "version": 3
   },
   "file_extension": ".py",
   "mimetype": "text/x-python",
   "name": "python",
   "nbconvert_exporter": "python",
   "pygments_lexer": "ipython3",
   "version": "3.11.9"
  }
 },
 "nbformat": 4,
 "nbformat_minor": 5
}
