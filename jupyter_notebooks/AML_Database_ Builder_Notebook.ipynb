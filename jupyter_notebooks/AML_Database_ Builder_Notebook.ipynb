{
 "cells": [
  {
   "cell_type": "code",
   "execution_count": 1,
   "id": "a07ea12f",
   "metadata": {},
   "outputs": [],
   "source": [
    "# 📦 Dependencies\n",
    "import sqlite3\n",
    "import random\n",
    "from faker import Faker\n",
    "from datetime import datetime, timedelta\n",
    "from tqdm import tqdm"
   ]
  },
  {
   "cell_type": "code",
   "execution_count": 2,
   "id": "8c3f1420",
   "metadata": {},
   "outputs": [],
   "source": [
    "# 🎲 Faker setup\n",
    "fake = Faker()\n",
    "random.seed(42)\n",
    "Faker.seed(42)"
   ]
  },
  {
   "cell_type": "code",
   "execution_count": 3,
   "id": "7ec7b1d9",
   "metadata": {},
   "outputs": [],
   "source": [
    "# 📂 Create SQLite DB\n",
    "db_path = \"../data/aml_simulation.db\"\n",
    "conn = sqlite3.connect(db_path)\n",
    "cursor = conn.cursor()"
   ]
  },
  {
   "cell_type": "code",
   "execution_count": 4,
   "id": "432e23f2",
   "metadata": {},
   "outputs": [],
   "source": [
    "# 🧹 Drop existing tables\n",
    "tables = [\"customers\", \"accounts\", \"transactions\", \"watchlist_entities\", \"flagged_txns\"]\n",
    "for t in tables:\n",
    "    cursor.execute(f\"DROP TABLE IF EXISTS {t}\")"
   ]
  },
  {
   "cell_type": "code",
   "execution_count": 5,
   "id": "8ebd1d1d",
   "metadata": {},
   "outputs": [],
   "source": [
    "# 📐 Schema creation\n",
    "cursor.executescript(\"\"\"\n",
    "CREATE TABLE customers (\n",
    "    customer_id INTEGER PRIMARY KEY,\n",
    "    name TEXT,\n",
    "    dob TEXT,\n",
    "    country TEXT,\n",
    "    risk_category TEXT\n",
    ");\n",
    "\n",
    "CREATE TABLE accounts (\n",
    "    account_id INTEGER PRIMARY KEY,\n",
    "    customer_id INTEGER,\n",
    "    account_type TEXT,\n",
    "    open_date TEXT\n",
    ");\n",
    "\n",
    "CREATE TABLE transactions (\n",
    "    txn_id INTEGER PRIMARY KEY,\n",
    "    account_id INTEGER,\n",
    "    timestamp TEXT,\n",
    "    amount REAL,\n",
    "    currency TEXT,\n",
    "    origin_country TEXT,\n",
    "    dest_country TEXT,\n",
    "    channel TEXT,\n",
    "    counterparty TEXT\n",
    ");\n",
    "\n",
    "CREATE TABLE watchlist_entities (\n",
    "    entity_id INTEGER PRIMARY KEY,\n",
    "    name TEXT,\n",
    "    country TEXT\n",
    ");\n",
    "\n",
    "CREATE TABLE flagged_txns (\n",
    "    flagged_id INTEGER PRIMARY KEY,\n",
    "    txn_id INTEGER,\n",
    "    rule_triggered TEXT,\n",
    "    reason TEXT\n",
    ");\n",
    "\"\"\")\n",
    "conn.commit()"
   ]
  },
  {
   "cell_type": "code",
   "execution_count": 6,
   "id": "345e0c5b",
   "metadata": {},
   "outputs": [],
   "source": [
    "# 👤 Generate 10,000 customers\n",
    "countries = ['US', 'DE', 'GB', 'RU', 'CN', 'IR', 'PL', 'FR', 'BR', 'NG']\n",
    "risk_weights = ['Low', 'Medium', 'High']\n",
    "customer_rows = []\n",
    "\n",
    "for i in range(1, 10001):\n",
    "    customer_rows.append((\n",
    "        i,\n",
    "        fake.name(),\n",
    "        fake.date_of_birth(minimum_age=18, maximum_age=85).isoformat(),\n",
    "        random.choice(countries),\n",
    "        random.choices(risk_weights, weights=[0.7, 0.25, 0.05])[0]\n",
    "    ))\n",
    "\n",
    "cursor.executemany(\"INSERT INTO customers VALUES (?, ?, ?, ?, ?)\", customer_rows)\n",
    "conn.commit()"
   ]
  },
  {
   "cell_type": "code",
   "execution_count": 7,
   "id": "2a89179f",
   "metadata": {},
   "outputs": [
    {
     "name": "stderr",
     "output_type": "stream",
     "text": [
      "100%|██████████| 10000/10000 [00:00<00:00, 15392.92it/s]\n"
     ]
    }
   ],
   "source": [
    "# Generate accounts\n",
    "account_id = 1\n",
    "account_types = ['Checking', 'Savings', 'Investment']\n",
    "account_rows = []\n",
    "\n",
    "for cust_id in tqdm(range(1, 10001)):\n",
    "    for _ in range(random.randint(1, 3)):\n",
    "        account_rows.append((\n",
    "            account_id,\n",
    "            cust_id,\n",
    "            random.choice(account_types),\n",
    "            fake.date_between(start_date='-10y', end_date='-1d').isoformat()\n",
    "        ))\n",
    "        account_id += 1\n",
    "\n",
    "cursor.executemany(\"INSERT INTO accounts VALUES (?, ?, ?, ?)\", account_rows)\n",
    "conn.commit()"
   ]
  },
  {
   "cell_type": "code",
   "execution_count": 8,
   "id": "4b5c6ae5",
   "metadata": {},
   "outputs": [
    {
     "name": "stderr",
     "output_type": "stream",
     "text": [
      "100%|██████████| 20054/20054 [06:10<00:00, 54.12it/s]\n"
     ]
    }
   ],
   "source": [
    "# Generate transactions (50-200 per account)\n",
    "# Define allowed date range\n",
    "start_date = datetime(2023, 1, 1)\n",
    "end_date = datetime(2025, 6, 30)\n",
    "\n",
    "txn_id = 1\n",
    "channels = ['Online', 'ATM', 'Branch', 'Mobile']\n",
    "currencies = ['USD', 'EUR', 'GBP', 'PLN']\n",
    "txn_batch = []\n",
    "\n",
    "# Adjust country list and weights for better distribution of high-risk countries\n",
    "high_risk_countries = ['IR', 'RU', 'CN']\n",
    "low_risk_countries = [c for c in countries if c not in high_risk_countries]\n",
    "\n",
    "# Adjusted weights to limit dominance of high risk countries\n",
    "country_weights = {\n",
    "    'IR': 0.05,  # reduced from implied ~0.5\n",
    "    'RU': 0.10,\n",
    "    'CN': 0.10\n",
    "}\n",
    "# Equal weights for low risk countries summing to 0.75 total\n",
    "low_risk_weight_each = 0.75 / len(low_risk_countries)\n",
    "for c in low_risk_countries:\n",
    "    country_weights[c] = low_risk_weight_each\n",
    "\n",
    "country_choices = list(country_weights.keys())\n",
    "country_probabilities = list(country_weights.values())\n",
    "\n",
    "for acc in tqdm(account_rows):\n",
    "    acc_id, _, _, open_date = acc\n",
    "    num_txns = random.randint(50, 200)\n",
    "    open_dt = datetime.fromisoformat(open_date)\n",
    "\n",
    "    for _ in range(num_txns):\n",
    "        # Transaction date cannot be before account open date or before start_date\n",
    "        min_date = max(open_dt, start_date)\n",
    "        max_days = (end_date - min_date).days\n",
    "        if max_days < 1:\n",
    "            # No valid transaction date range, skip this transaction\n",
    "            continue\n",
    "\n",
    "        # Balanced month selection with slight growth over time\n",
    "        total_months = (end_date.year - start_date.year) * 12 + (end_date.month - start_date.month + 1)\n",
    "        month_indices = list(range(total_months))\n",
    "        # Linear weights increasing from 1 to 2 (for example) to add slight growing tendency\n",
    "        month_weights = [1 + (i / total_months) for i in month_indices]\n",
    "        chosen_month_idx = random.choices(month_indices, weights=month_weights)[0]\n",
    "        chosen_year = start_date.year + (start_date.month - 1 + chosen_month_idx) // 12\n",
    "        chosen_month = (start_date.month - 1 + chosen_month_idx) % 12 + 1\n",
    "\n",
    "        # Create txn_dt within chosen month and min_date constraint\n",
    "        # Calculate earliest and latest possible date in chosen month\n",
    "        first_of_month = datetime(chosen_year, chosen_month, 1)\n",
    "        if chosen_month == 12:\n",
    "            next_month = datetime(chosen_year + 1, 1, 1)\n",
    "        else:\n",
    "            next_month = datetime(chosen_year, chosen_month + 1, 1)\n",
    "\n",
    "        # Set min_day as max between first_of_month and min_date\n",
    "        min_txn_dt = max(first_of_month, min_date)\n",
    "        max_txn_dt = next_month - timedelta(seconds=1)\n",
    "\n",
    "        if min_txn_dt > max_txn_dt:\n",
    "            # No valid day in this month, skip transaction generation this iteration\n",
    "            continue\n",
    "\n",
    "        delta_seconds = int((max_txn_dt - min_txn_dt).total_seconds())\n",
    "        random_second = random.randint(0, delta_seconds)\n",
    "        txn_dt = min_txn_dt + timedelta(seconds=random_second)\n",
    "\n",
    "        origin_country = random.choices(country_choices, weights=country_probabilities)[0]\n",
    "        destination_country = random.choices(country_choices, weights=country_probabilities)[0]\n",
    "\n",
    "        txn_batch.append((\n",
    "            txn_id,\n",
    "            acc_id,\n",
    "            txn_dt.isoformat(),\n",
    "            round(random.uniform(10, 10000), 2),\n",
    "            random.choice(currencies),\n",
    "            origin_country,\n",
    "            destination_country,\n",
    "            random.choice(channels),\n",
    "            fake.company()\n",
    "        ))\n",
    "        txn_id += 1\n",
    "\n",
    "        if len(txn_batch) > 100000:\n",
    "            cursor.executemany(\"INSERT INTO transactions VALUES (?, ?, ?, ?, ?, ?, ?, ?, ?)\", txn_batch)\n",
    "            txn_batch = []\n",
    "\n",
    "# Final flush\n",
    "if txn_batch:\n",
    "    cursor.executemany(\"INSERT INTO transactions VALUES (?, ?, ?, ?, ?, ?, ?, ?, ?)\", txn_batch)\n",
    "conn.commit()\n"
   ]
  },
  {
   "cell_type": "code",
   "execution_count": 9,
   "id": "d5fa12ff",
   "metadata": {},
   "outputs": [],
   "source": [
    "# Generate watchlist entities\n",
    "watchlist = [(i, fake.company(), random.choice(countries)) for i in range(1, 21)]\n",
    "cursor.executemany(\"INSERT INTO watchlist_entities VALUES (?, ?, ?)\", watchlist)\n",
    "conn.commit()"
   ]
  },
  {
   "cell_type": "code",
   "execution_count": 10,
   "id": "25e75e87",
   "metadata": {},
   "outputs": [
    {
     "name": "stdout",
     "output_type": "stream",
     "text": [
      "✅ Database created: ../data/aml_simulation.db\n"
     ]
    }
   ],
   "source": [
    "conn.close()\n",
    "print(f\"✅ Database created: {db_path}\")"
   ]
  }
 ],
 "metadata": {
  "kernelspec": {
   "display_name": "myenv",
   "language": "python",
   "name": "python3"
  },
  "language_info": {
   "codemirror_mode": {
    "name": "ipython",
    "version": 3
   },
   "file_extension": ".py",
   "mimetype": "text/x-python",
   "name": "python",
   "nbconvert_exporter": "python",
   "pygments_lexer": "ipython3",
   "version": "3.11.9"
  }
 },
 "nbformat": 4,
 "nbformat_minor": 5
}
