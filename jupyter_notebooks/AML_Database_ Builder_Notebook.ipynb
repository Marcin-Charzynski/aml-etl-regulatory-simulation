{
 "cells": [
  {
   "cell_type": "code",
   "execution_count": null,
   "id": "a07ea12f",
   "metadata": {},
   "outputs": [],
   "source": [
    "# 📦 Dependencies\n",
    "import sqlite3\n",
    "import random\n",
    "from faker import Faker\n",
    "from datetime import datetime, timedelta\n",
    "from tqdm import tqdm"
   ]
  },
  {
   "cell_type": "code",
   "execution_count": null,
   "id": "8c3f1420",
   "metadata": {},
   "outputs": [],
   "source": [
    "# 🎲 Faker setup\n",
    "fake = Faker()\n",
    "random.seed(42)\n",
    "Faker.seed(42)"
   ]
  },
  {
   "cell_type": "code",
   "execution_count": null,
   "id": "7ec7b1d9",
   "metadata": {},
   "outputs": [],
   "source": [
    "# 📂 Create SQLite DB\n",
    "db_path = \"aml_simulation.db\"\n",
    "conn = sqlite3.connect(db_path)\n",
    "cursor = conn.cursor()"
   ]
  },
  {
   "cell_type": "code",
   "execution_count": null,
   "id": "432e23f2",
   "metadata": {},
   "outputs": [],
   "source": [
    "# 🧹 Drop existing tables\n",
    "tables = [\"customers\", \"accounts\", \"transactions\", \"watchlist_entities\", \"flagged_txns\"]\n",
    "for t in tables:\n",
    "    cursor.execute(f\"DROP TABLE IF EXISTS {t}\")"
   ]
  },
  {
   "cell_type": "code",
   "execution_count": null,
   "id": "8ebd1d1d",
   "metadata": {},
   "outputs": [],
   "source": [
    "# 📐 Schema creation\n",
    "cursor.executescript(\"\"\"\n",
    "CREATE TABLE customers (\n",
    "    customer_id INTEGER PRIMARY KEY,\n",
    "    name TEXT,\n",
    "    dob TEXT,\n",
    "    country TEXT,\n",
    "    risk_category TEXT\n",
    ");\n",
    "\n",
    "CREATE TABLE accounts (\n",
    "    account_id INTEGER PRIMARY KEY,\n",
    "    customer_id INTEGER,\n",
    "    account_type TEXT,\n",
    "    open_date TEXT\n",
    ");\n",
    "\n",
    "CREATE TABLE transactions (\n",
    "    txn_id INTEGER PRIMARY KEY,\n",
    "    account_id INTEGER,\n",
    "    timestamp TEXT,\n",
    "    amount REAL,\n",
    "    currency TEXT,\n",
    "    origin_country TEXT,\n",
    "    dest_country TEXT,\n",
    "    channel TEXT,\n",
    "    counterparty TEXT\n",
    ");\n",
    "\n",
    "CREATE TABLE watchlist_entities (\n",
    "    entity_id INTEGER PRIMARY KEY,\n",
    "    name TEXT,\n",
    "    country TEXT\n",
    ");\n",
    "\n",
    "CREATE TABLE flagged_txns (\n",
    "    flagged_id INTEGER PRIMARY KEY,\n",
    "    txn_id INTEGER,\n",
    "    rule_triggered TEXT,\n",
    "    reason TEXT\n",
    ");\n",
    "\"\"\")\n",
    "conn.commit()"
   ]
  }
 ],
 "metadata": {
  "language_info": {
   "name": "python"
  }
 },
 "nbformat": 4,
 "nbformat_minor": 5
}
