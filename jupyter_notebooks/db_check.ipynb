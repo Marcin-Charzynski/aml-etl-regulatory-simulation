{
 "cells": [
  {
   "cell_type": "code",
   "execution_count": 11,
   "id": "e9804592",
   "metadata": {},
   "outputs": [],
   "source": [
    "import sqlite3"
   ]
  },
  {
   "cell_type": "code",
   "execution_count": 12,
   "id": "a9f3e4a9",
   "metadata": {},
   "outputs": [],
   "source": [
    "# Connect to SQLite database (or create it if it doesn't exist)\n",
    "conn = sqlite3.connect(\"../data/aml_simulation.db\")\n",
    "cursor = conn.cursor()"
   ]
  },
  {
   "cell_type": "code",
   "execution_count": 13,
   "id": "824f9a5d",
   "metadata": {},
   "outputs": [
    {
     "name": "stdout",
     "output_type": "stream",
     "text": [
      "Tables in database:\n",
      "customers\n",
      "accounts\n",
      "transactions\n",
      "watchlist_entities\n",
      "flagged_txns\n"
     ]
    }
   ],
   "source": [
    "# Fetch all tables in the database\n",
    "cursor.execute(\"SELECT name FROM sqlite_master WHERE type='table';\")\n",
    "tables = cursor.fetchall()\n",
    "\n",
    "print(\"Tables in database:\")\n",
    "for table in tables:\n",
    "    print(table[0])"
   ]
  },
  {
   "cell_type": "code",
   "execution_count": 14,
   "id": "79253ad1",
   "metadata": {},
   "outputs": [
    {
     "name": "stdout",
     "output_type": "stream",
     "text": [
      "\n",
      "Table details:\n",
      "\n",
      "Schema for customers:\n",
      "(0, 'customer_id', 'INTEGER', 0, None, 1)\n",
      "(1, 'name', 'TEXT', 0, None, 0)\n",
      "(2, 'dob', 'TEXT', 0, None, 0)\n",
      "(3, 'country', 'TEXT', 0, None, 0)\n",
      "(4, 'risk_category', 'TEXT', 0, None, 0)\n",
      "Total rows in customers: 10000\n",
      "\n",
      "Schema for accounts:\n",
      "(0, 'account_id', 'INTEGER', 0, None, 1)\n",
      "(1, 'customer_id', 'INTEGER', 0, None, 0)\n",
      "(2, 'account_type', 'TEXT', 0, None, 0)\n",
      "(3, 'open_date', 'TEXT', 0, None, 0)\n",
      "Total rows in accounts: 20054\n",
      "\n",
      "Schema for transactions:\n",
      "(0, 'txn_id', 'INTEGER', 0, None, 1)\n",
      "(1, 'account_id', 'INTEGER', 0, None, 0)\n",
      "(2, 'timestamp', 'TEXT', 0, None, 0)\n",
      "(3, 'amount', 'REAL', 0, None, 0)\n",
      "(4, 'currency', 'TEXT', 0, None, 0)\n",
      "(5, 'origin_country', 'TEXT', 0, None, 0)\n",
      "(6, 'dest_country', 'TEXT', 0, None, 0)\n",
      "(7, 'channel', 'TEXT', 0, None, 0)\n",
      "(8, 'counterparty', 'TEXT', 0, None, 0)\n",
      "Total rows in transactions: 2252803\n",
      "\n",
      "Schema for watchlist_entities:\n",
      "(0, 'entity_id', 'INTEGER', 0, None, 1)\n",
      "(1, 'name', 'TEXT', 0, None, 0)\n",
      "(2, 'country', 'TEXT', 0, None, 0)\n",
      "Total rows in watchlist_entities: 20\n",
      "\n",
      "Schema for flagged_txns:\n",
      "(0, 'flagged_id', 'INTEGER', 0, None, 1)\n",
      "(1, 'txn_id', 'INTEGER', 0, None, 0)\n",
      "(2, 'rule_triggered', 'TEXT', 0, None, 0)\n",
      "(3, 'reason', 'TEXT', 0, None, 0)\n",
      "Total rows in flagged_txns: 384014\n"
     ]
    }
   ],
   "source": [
    "# Display schema and row counts for each table\n",
    "print(\"\\nTable details:\")\n",
    "for table in tables:\n",
    "    table_name = table[0]\n",
    "    print(f\"\\nSchema for {table_name}:\")\n",
    "    cursor.execute(f\"PRAGMA table_info({table_name});\")\n",
    "    schema = cursor.fetchall()\n",
    "    for column in schema:\n",
    "        print(column)\n",
    "    \n",
    "    # Count rows in table\n",
    "    cursor.execute(f\"SELECT COUNT(*) FROM {table_name};\")\n",
    "    row_count = cursor.fetchone()[0]\n",
    "    print(f\"Total rows in {table_name}: {row_count}\")\n"
   ]
  },
  {
   "cell_type": "code",
   "execution_count": 15,
   "id": "0eacae86",
   "metadata": {},
   "outputs": [],
   "source": [
    "# Close the connection\n",
    "conn.close()"
   ]
  }
 ],
 "metadata": {
  "kernelspec": {
   "display_name": "Python 3",
   "language": "python",
   "name": "python3"
  },
  "language_info": {
   "codemirror_mode": {
    "name": "ipython",
    "version": 3
   },
   "file_extension": ".py",
   "mimetype": "text/x-python",
   "name": "python",
   "nbconvert_exporter": "python",
   "pygments_lexer": "ipython3",
   "version": "3.11.9"
  }
 },
 "nbformat": 4,
 "nbformat_minor": 5
}
