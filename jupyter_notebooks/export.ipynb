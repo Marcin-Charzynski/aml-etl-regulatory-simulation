{
 "cells": [
  {
   "cell_type": "code",
   "execution_count": 1,
   "id": "a498cf67",
   "metadata": {},
   "outputs": [],
   "source": [
    "import sqlite3\n",
    "import pandas as pd"
   ]
  },
  {
   "cell_type": "code",
   "execution_count": 2,
   "id": "a0ce7013",
   "metadata": {},
   "outputs": [],
   "source": [
    "conn = sqlite3.connect(\"../data/aml_simulation.db\")\n",
    "export_dir = \"../data/output/pbi_exports\""
   ]
  },
  {
   "cell_type": "code",
   "execution_count": 3,
   "id": "b80fd898",
   "metadata": {},
   "outputs": [],
   "source": [
    "query = \"\"\"\n",
    "WITH joined_data AS (\n",
    "    SELECT\n",
    "        f.flagged_id,\n",
    "        f.rule_triggered,\n",
    "        f.reason,\n",
    "        \n",
    "        t.txn_id,\n",
    "        t.timestamp,\n",
    "        t.amount,\n",
    "        t.currency,\n",
    "        t.origin_country,\n",
    "        t.dest_country,\n",
    "        t.channel,\n",
    "        t.counterparty,\n",
    "\n",
    "        a.account_id,\n",
    "        a.account_type,\n",
    "        a.open_date,\n",
    "\n",
    "        c.customer_id,\n",
    "        c.name AS customer_name,\n",
    "        c.country AS customer_country,\n",
    "        c.risk_category,\n",
    "        c.dob\n",
    "    FROM flagged_txns f\n",
    "    JOIN transactions t ON f.txn_id = t.txn_id\n",
    "    JOIN accounts a ON t.account_id = a.account_id\n",
    "    JOIN customers c ON a.customer_id = c.customer_id\n",
    "    WHERE DATE(t.timestamp) >= DATE('now', '-180 days')\n",
    "),\n",
    "\n",
    "ranked_data AS (\n",
    "    SELECT *,\n",
    "           ROW_NUMBER() OVER (PARTITION BY txn_id ORDER BY timestamp DESC) AS row_num,\n",
    "           COUNT(*) OVER (PARTITION BY customer_id) AS txn_count_per_customer,\n",
    "           DENSE_RANK() OVER (PARTITION BY rule_triggered ORDER BY timestamp DESC) AS latest_hit_order\n",
    "    FROM joined_data\n",
    ")\n",
    "\n",
    "SELECT *\n",
    "FROM ranked_data\n",
    "WHERE row_num = 1\n",
    "ORDER BY timestamp DESC;\n",
    "\"\"\""
   ]
  },
  {
   "cell_type": "code",
   "execution_count": 4,
   "id": "8d9340e7",
   "metadata": {},
   "outputs": [],
   "source": [
    "df = pd.read_sql_query(query, conn)\n",
    "df.to_csv(f\"{export_dir}/flagged_risk_events_cte.csv\", index=False)\n",
    "conn.close()"
   ]
  }
 ],
 "metadata": {
  "kernelspec": {
   "display_name": "myenv",
   "language": "python",
   "name": "python3"
  },
  "language_info": {
   "codemirror_mode": {
    "name": "ipython",
    "version": 3
   },
   "file_extension": ".py",
   "mimetype": "text/x-python",
   "name": "python",
   "nbconvert_exporter": "python",
   "pygments_lexer": "ipython3",
   "version": "3.11.9"
  }
 },
 "nbformat": 4,
 "nbformat_minor": 5
}
