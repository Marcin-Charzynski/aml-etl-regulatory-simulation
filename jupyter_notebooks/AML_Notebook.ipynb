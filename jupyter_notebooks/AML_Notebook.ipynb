{
 "cells": [
  {
   "cell_type": "code",
   "execution_count": 3,
   "id": "8900bca5",
   "metadata": {},
   "outputs": [],
   "source": [
    "import sqlite3"
   ]
  },
  {
   "cell_type": "code",
   "execution_count": 4,
   "id": "731911cc",
   "metadata": {},
   "outputs": [],
   "source": [
    "conn = sqlite3.connect(\"../data/aml_simulation.db\")\n",
    "cursor = conn.cursor()"
   ]
  },
  {
   "cell_type": "code",
   "execution_count": 5,
   "id": "2546b2b2",
   "metadata": {},
   "outputs": [
    {
     "data": {
      "text/plain": [
       "<sqlite3.Cursor at 0x1e35c5c1ac0>"
      ]
     },
     "execution_count": 5,
     "metadata": {},
     "output_type": "execute_result"
    }
   ],
   "source": [
    "# Rule 1: Structuring – multiple transfers just under threshold (e.g. 9,000 < x < 10,000)\n",
    "cursor.execute(\"\"\"\n",
    "INSERT INTO flagged_txns (txn_id, rule_triggered, reason)\n",
    "SELECT txn_id, 'Rule 1 - Structuring', 'Transaction amount between 9000 and 9999'\n",
    "FROM transactions\n",
    "WHERE amount BETWEEN 9000 AND 9999\n",
    "\"\"\")"
   ]
  },
  {
   "cell_type": "code",
   "execution_count": 6,
   "id": "da4272fd",
   "metadata": {},
   "outputs": [
    {
     "data": {
      "text/plain": [
       "<sqlite3.Cursor at 0x1e35c5c1ac0>"
      ]
     },
     "execution_count": 6,
     "metadata": {},
     "output_type": "execute_result"
    }
   ],
   "source": [
    "# Rule 2: Velocity – 5+ transactions from same account within 30 minutes\n",
    "cursor.execute(\"\"\"\n",
    "INSERT INTO flagged_txns (txn_id, rule_triggered, reason)\n",
    "SELECT txn_id, 'Rule 2 - High Velocity', 'More than 5 txns within 30 minutes'\n",
    "FROM (\n",
    "SELECT t.txn_id, t.account_id, t.timestamp,\n",
    "COUNT(*) OVER (PARTITION BY t.account_id ORDER BY t.timestamp\n",
    "RANGE BETWEEN 0 PRECEDING AND 1800 FOLLOWING) as txn_count\n",
    "FROM transactions t\n",
    ")\n",
    "WHERE txn_count >= 5\n",
    "\"\"\")"
   ]
  },
  {
   "cell_type": "code",
   "execution_count": 7,
   "id": "13520fa7",
   "metadata": {},
   "outputs": [
    {
     "data": {
      "text/plain": [
       "<sqlite3.Cursor at 0x1e35c5c1ac0>"
      ]
     },
     "execution_count": 7,
     "metadata": {},
     "output_type": "execute_result"
    }
   ],
   "source": [
    "# Rule 3: High-risk destination countries\n",
    "high_risk_countries = ('IR', 'RU', 'KP', 'SY', 'AF')\n",
    "cursor.execute(f\"\"\"\n",
    "INSERT INTO flagged_txns (txn_id, rule_triggered, reason)\n",
    "SELECT txn_id, 'Rule 3 - High-Risk Country', 'Destination country is high-risk'\n",
    "FROM transactions\n",
    "WHERE dest_country IN {high_risk_countries}\n",
    "\"\"\")"
   ]
  },
  {
   "cell_type": "code",
   "execution_count": 8,
   "id": "ffb9a1d6",
   "metadata": {},
   "outputs": [
    {
     "data": {
      "text/plain": [
       "<sqlite3.Cursor at 0x1e35c5c1ac0>"
      ]
     },
     "execution_count": 8,
     "metadata": {},
     "output_type": "execute_result"
    }
   ],
   "source": [
    "# Rule 4: Counterparty in Watchlist\n",
    "cursor.execute(\"\"\"\n",
    "INSERT INTO flagged_txns (txn_id, rule_triggered, reason)\n",
    "SELECT t.txn_id, 'Rule 4 - Watchlist Match', 'Counterparty matched watchlist entity'\n",
    "FROM transactions t\n",
    "JOIN watchlist_entities w ON t.counterparty = w.name\n",
    "\"\"\")"
   ]
  },
  {
   "cell_type": "code",
   "execution_count": 9,
   "id": "248f7542",
   "metadata": {},
   "outputs": [
    {
     "data": {
      "text/plain": [
       "<sqlite3.Cursor at 0x1e35c5c1ac0>"
      ]
     },
     "execution_count": 9,
     "metadata": {},
     "output_type": "execute_result"
    }
   ],
   "source": [
    "# Rule 5: Dormant account suddenly active (no txns for >90 days, then sudden activity)\n",
    "cursor.execute(\"\"\"\n",
    "INSERT INTO flagged_txns (txn_id, rule_triggered, reason)\n",
    "WITH last_txns AS (\n",
    "SELECT account_id, MAX(DATE(timestamp)) AS last_txn_date\n",
    "FROM transactions\n",
    "GROUP BY account_id\n",
    "),\n",
    "dormant_accounts AS (\n",
    "SELECT a.account_id\n",
    "FROM accounts a\n",
    "JOIN last_txns l ON a.account_id = l.account_id\n",
    "WHERE julianday('now') - julianday(l.last_txn_date) > 90\n",
    ")\n",
    "SELECT t.txn_id, 'Rule 5 - Dormant Reactivation', 'Dormant account reactivated'\n",
    "FROM transactions t\n",
    "JOIN dormant_accounts d ON t.account_id = d.account_id\n",
    "\"\"\")"
   ]
  },
  {
   "cell_type": "code",
   "execution_count": null,
   "id": "8baebf9d",
   "metadata": {},
   "outputs": [],
   "source": [
    "conn.commit()\n",
    "conn.close()"
   ]
  }
 ],
 "metadata": {
  "kernelspec": {
   "display_name": "myenv",
   "language": "python",
   "name": "python3"
  },
  "language_info": {
   "codemirror_mode": {
    "name": "ipython",
    "version": 3
   },
   "file_extension": ".py",
   "mimetype": "text/x-python",
   "name": "python",
   "nbconvert_exporter": "python",
   "pygments_lexer": "ipython3",
   "version": "3.11.9"
  }
 },
 "nbformat": 4,
 "nbformat_minor": 5
}
