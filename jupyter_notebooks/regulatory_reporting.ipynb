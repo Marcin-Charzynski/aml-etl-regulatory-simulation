{
 "cells": [
  {
   "cell_type": "code",
   "execution_count": 18,
   "id": "4d386123",
   "metadata": {},
   "outputs": [],
   "source": [
    "import sqlite3\n",
    "import pandas as pd\n",
    "from datetime import datetime"
   ]
  },
  {
   "cell_type": "code",
   "execution_count": 19,
   "id": "f5288860",
   "metadata": {},
   "outputs": [],
   "source": [
    "# Paths\n",
    "db_path = \"../data/aml_simulation.db\"\n",
    "report_dir = \"../data/output/regulatory_reports\"\n",
    "\n",
    "# Connect to DB\n",
    "conn = sqlite3.connect(db_path)"
   ]
  },
  {
   "cell_type": "code",
   "execution_count": 20,
   "id": "2c42b110",
   "metadata": {},
   "outputs": [
    {
     "data": {
      "text/html": [
       "<div>\n",
       "<style scoped>\n",
       "    .dataframe tbody tr th:only-of-type {\n",
       "        vertical-align: middle;\n",
       "    }\n",
       "\n",
       "    .dataframe tbody tr th {\n",
       "        vertical-align: top;\n",
       "    }\n",
       "\n",
       "    .dataframe thead th {\n",
       "        text-align: right;\n",
       "    }\n",
       "</style>\n",
       "<table border=\"1\" class=\"dataframe\">\n",
       "  <thead>\n",
       "    <tr style=\"text-align: right;\">\n",
       "      <th></th>\n",
       "      <th>customer_id</th>\n",
       "      <th>name</th>\n",
       "      <th>flagged_count</th>\n",
       "    </tr>\n",
       "  </thead>\n",
       "  <tbody>\n",
       "    <tr>\n",
       "      <th>0</th>\n",
       "      <td>4729</td>\n",
       "      <td>Rebecca Newman</td>\n",
       "      <td>108</td>\n",
       "    </tr>\n",
       "    <tr>\n",
       "      <th>1</th>\n",
       "      <td>3288</td>\n",
       "      <td>Jimmy Ortega</td>\n",
       "      <td>106</td>\n",
       "    </tr>\n",
       "    <tr>\n",
       "      <th>2</th>\n",
       "      <td>2444</td>\n",
       "      <td>Susan Jones</td>\n",
       "      <td>106</td>\n",
       "    </tr>\n",
       "  </tbody>\n",
       "</table>\n",
       "</div>"
      ],
      "text/plain": [
       "   customer_id            name  flagged_count\n",
       "0         4729  Rebecca Newman            108\n",
       "1         3288    Jimmy Ortega            106\n",
       "2         2444     Susan Jones            106"
      ]
     },
     "execution_count": 20,
     "metadata": {},
     "output_type": "execute_result"
    }
   ],
   "source": [
    "query_top_customers = \"\"\"\n",
    "SELECT c.customer_id, c.name, COUNT(*) AS flagged_count\n",
    "FROM flagged_txns ft\n",
    "JOIN transactions t ON ft.txn_id = t.txn_id\n",
    "JOIN accounts a ON t.account_id = a.account_id\n",
    "JOIN customers c ON a.customer_id = c.customer_id\n",
    "GROUP BY c.customer_id\n",
    "ORDER BY flagged_count DESC\n",
    "LIMIT 3;\n",
    "\"\"\"\n",
    "top_customers_df = pd.read_sql(query_top_customers, conn)\n",
    "top_customers_df\n"
   ]
  },
  {
   "cell_type": "code",
   "execution_count": 21,
   "id": "0a0b3245",
   "metadata": {},
   "outputs": [],
   "source": [
    "customer_ids = top_customers_df['customer_id'].tolist()\n",
    "\n",
    "placeholders = ', '.join(['?'] * len(customer_ids))\n",
    "\n",
    "detailed_report_query = f\"\"\"\n",
    "SELECT \n",
    "    c.customer_id,\n",
    "    c.name AS customer_name,\n",
    "    c.dob,\n",
    "    c.country,\n",
    "    c.risk_category,\n",
    "    a.account_id,\n",
    "    t.txn_id,\n",
    "    t.timestamp,\n",
    "    t.amount,\n",
    "    t.origin_country,\n",
    "    t.dest_country,\n",
    "    t.channel,\n",
    "    ft.rule_triggered,\n",
    "    ft.reason\n",
    "FROM customers c\n",
    "JOIN accounts a ON c.customer_id = a.customer_id\n",
    "JOIN transactions t ON a.account_id = t.account_id\n",
    "JOIN flagged_txns ft ON t.txn_id = ft.txn_id\n",
    "WHERE c.customer_id IN ({placeholders})\n",
    "ORDER BY c.customer_id, t.timestamp;\n",
    "\"\"\"\n",
    "\n",
    "detailed_sar_df = pd.read_sql(detailed_report_query, conn, params=customer_ids)\n",
    "detailed_sar_df.to_csv(f\"{report_dir}/customer_sar_batch_report.csv\", index=False)\n"
   ]
  },
  {
   "cell_type": "code",
   "execution_count": 22,
   "id": "02e1d7d6",
   "metadata": {},
   "outputs": [],
   "source": [
    "top_customers_df.to_csv(f\"{report_dir}/top_suspicious_customers.csv\", index=False)"
   ]
  }
 ],
 "metadata": {
  "kernelspec": {
   "display_name": "myenv",
   "language": "python",
   "name": "python3"
  },
  "language_info": {
   "codemirror_mode": {
    "name": "ipython",
    "version": 3
   },
   "file_extension": ".py",
   "mimetype": "text/x-python",
   "name": "python",
   "nbconvert_exporter": "python",
   "pygments_lexer": "ipython3",
   "version": "3.11.9"
  }
 },
 "nbformat": 4,
 "nbformat_minor": 5
}
